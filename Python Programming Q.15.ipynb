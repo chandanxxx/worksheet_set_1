{
 "cells": [
  {
   "cell_type": "code",
   "execution_count": null,
   "id": "acb850ee",
   "metadata": {},
   "outputs": [],
   "source": [
    "#Python Programming to print the frequency of each of the characters present in a given string\n",
    "\n",
    "string=input(\"Enter the string \")\n",
    "freq=[None]*len(string)\n",
    "for i in range(0,len(string)):\n",
    "  freq[i]=1\n",
    "  for j in range(i+1,len(string)):\n",
    "    if(string[i]==string[j]):\n",
    "        freq[i]=freq[i]+1\n",
    "        string=string[:j]+'0'+string[j+1:];\n",
    "print(\"Character and their frequency\");\n",
    "for i in range(0,len(freq)):\n",
    "    if(string[i]!=' ' and string[i]!='0'):\n",
    "        print(string[i]+\"=\"+str(freq[i]))"
   ]
  },
  {
   "cell_type": "code",
   "execution_count": null,
   "id": "a806a0bb",
   "metadata": {},
   "outputs": [],
   "source": []
  }
 ],
 "metadata": {
  "kernelspec": {
   "display_name": "Python 3",
   "language": "python",
   "name": "python3"
  },
  "language_info": {
   "codemirror_mode": {
    "name": "ipython",
    "version": 3
   },
   "file_extension": ".py",
   "mimetype": "text/x-python",
   "name": "python",
   "nbconvert_exporter": "python",
   "pygments_lexer": "ipython3",
   "version": "3.8.8"
  }
 },
 "nbformat": 4,
 "nbformat_minor": 5
}
