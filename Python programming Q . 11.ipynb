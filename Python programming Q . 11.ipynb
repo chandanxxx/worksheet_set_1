{
 "cells": [
  {
   "cell_type": "code",
   "execution_count": 4,
   "id": "e3cf959e",
   "metadata": {},
   "outputs": [
    {
     "name": "stdout",
     "output_type": "stream",
     "text": [
      "Enter the number: 2\n",
      "factorial of  2  (function): 2\n"
     ]
    }
   ],
   "source": [
    "import math\n",
    "num=int(input(\"Enter the number: \"))\n",
    "print(\"factorial of \",num,\" (function): \",end=\"\")\n",
    "print(math.factorial(num))"
   ]
  },
  {
   "cell_type": "code",
   "execution_count": null,
   "id": "9b451df0",
   "metadata": {},
   "outputs": [],
   "source": []
  },
  {
   "cell_type": "code",
   "execution_count": null,
   "id": "d455923f",
   "metadata": {},
   "outputs": [],
   "source": []
  }
 ],
 "metadata": {
  "kernelspec": {
   "display_name": "Python 3",
   "language": "python",
   "name": "python3"
  },
  "language_info": {
   "codemirror_mode": {
    "name": "ipython",
    "version": 3
   },
   "file_extension": ".py",
   "mimetype": "text/x-python",
   "name": "python",
   "nbconvert_exporter": "python",
   "pygments_lexer": "ipython3",
   "version": "3.8.8"
  }
 },
 "nbformat": 4,
 "nbformat_minor": 5
}
